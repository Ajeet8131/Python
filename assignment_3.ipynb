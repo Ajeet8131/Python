{
 "cells": [
  {
   "cell_type": "markdown",
   "id": "9d09473d-0205-41f0-8977-692766c51b08",
   "metadata": {},
   "source": [
    "Q1. Which keyword is used to create a function? Create a function to return a list of odd numbers in the \n",
    "range of 1 to 25."
   ]
  },
  {
   "cell_type": "markdown",
   "id": "5ef2c0ca-d087-48f3-bac8-d98775521fa4",
   "metadata": {},
   "source": [
    "The keyword used to create a function in Python is \"def.\" "
   ]
  },
  {
   "cell_type": "code",
   "execution_count": 9,
   "id": "437e43fd-b1bc-4552-9dbd-4430a5601a46",
   "metadata": {},
   "outputs": [],
   "source": [
    "def get_odd_numbers():\n",
    "    odd_numbers = []\n",
    "    for number in range(1, 26):\n",
    "        if number % 2 != 0:\n",
    "            odd_numbers.append(number)\n",
    "    return odd_numbers"
   ]
  },
  {
   "cell_type": "code",
   "execution_count": 11,
   "id": "24ebe923-b5df-4de6-962c-d0404a2f3331",
   "metadata": {},
   "outputs": [
    {
     "name": "stdout",
     "output_type": "stream",
     "text": [
      "[1, 3, 5, 7, 9, 11, 13, 15, 17, 19, 21, 23, 25]\n"
     ]
    }
   ],
   "source": [
    "Ajeet = get_odd_numbers()\n",
    "print(Ajeet)"
   ]
  },
  {
   "cell_type": "markdown",
   "id": "a9d0016e-6e4a-4fbe-a7cc-d3319252ec4c",
   "metadata": {},
   "source": [
    "Q2. Why *args and **kwargs is used in some functions? Create a function each for *args and **kwargs \n",
    "to demonstrate their use."
   ]
  },
  {
   "cell_type": "markdown",
   "id": "e614dd26-f9db-42b9-bb6f-b9cfe40993ae",
   "metadata": {},
   "source": [
    "*args is used to pass a variable number of non-keyword arguments to a function. It allows you to pass any number of positional arguments, and the arguments are collected into a tuple within the function.\n",
    "\n",
    "**kwargs is used to pass a variable number of keyword arguments to a function. It allows you to pass any number of keyword arguments, and the arguments are collected into a dictionary within the function."
   ]
  },
  {
   "cell_type": "code",
   "execution_count": 12,
   "id": "72e12907-3f2a-4a06-81ff-941060d8f5be",
   "metadata": {},
   "outputs": [],
   "source": [
    "def my_function(*args):\n",
    "    for arg in args:\n",
    "        print(arg)\n"
   ]
  },
  {
   "cell_type": "code",
   "execution_count": 13,
   "id": "36a8cab8-dc6c-4e33-824b-ad72d3e7862d",
   "metadata": {},
   "outputs": [
    {
     "name": "stdout",
     "output_type": "stream",
     "text": [
      "Ajeet\n",
      "abhi\n",
      "saurabh\n"
     ]
    }
   ],
   "source": [
    "my_function('Ajeet', 'abhi', 'saurabh')"
   ]
  },
  {
   "cell_type": "code",
   "execution_count": 14,
   "id": "3d753a92-de1a-4c5e-b79e-f012ed15f7ad",
   "metadata": {},
   "outputs": [],
   "source": [
    "def my_function(**kwargs):\n",
    "    for key, value in kwargs.items():\n",
    "        print(f\"{key}: {value}\")\n"
   ]
  },
  {
   "cell_type": "code",
   "execution_count": 15,
   "id": "7b5d2a49-1481-45b3-a834-d5f6d6f006e3",
   "metadata": {},
   "outputs": [
    {
     "name": "stdout",
     "output_type": "stream",
     "text": [
      "fruit: apple\n",
      "color: red\n",
      "price: 1.99\n"
     ]
    }
   ],
   "source": [
    "my_function(fruit='apple', color='red', price=1.99)"
   ]
  },
  {
   "cell_type": "markdown",
   "id": "c3f725f1-9e04-40ff-b1fd-72f4dcff2561",
   "metadata": {},
   "source": [
    "Q3.  What is an iterator in python? Name the method used to initialise the iterator object and the method \n",
    "used for iteration. Use these methods to print the first five elements of the given list [2, 4, 6, 8, 10, 12, 14, \n",
    "16, 18, 20]"
   ]
  },
  {
   "cell_type": "markdown",
   "id": "c69f3c11-dde0-4232-a307-08d34bdfa707",
   "metadata": {},
   "source": [
    "In Python, an iterator is an object that allows you to traverse through elements of a collection or sequence. It provides a way to access individual elements sequentially without exposing the underlying implementation details of the collection.\n",
    "\n",
    "The __iter__() method is used to initialize the iterator object. It returns the iterator object itself. This method is called when an iterator object is created.\n",
    "\n",
    "The __next__() method is used for iteration. It returns the next element from the iterator. If there are no more elements, it raises the StopIteration exception."
   ]
  },
  {
   "cell_type": "code",
   "execution_count": 17,
   "id": "757ab8f9-97d3-408f-87f3-47407b5fbfd4",
   "metadata": {},
   "outputs": [],
   "source": [
    "my_list = [2, 4, 6, 8, 10, 12, 14, 16, 18, 20]"
   ]
  },
  {
   "cell_type": "code",
   "execution_count": 20,
   "id": "93f43ff3-60a9-46ad-b447-c64fc8660f5d",
   "metadata": {},
   "outputs": [
    {
     "name": "stdout",
     "output_type": "stream",
     "text": [
      "2\n",
      "4\n",
      "6\n",
      "8\n",
      "10\n"
     ]
    }
   ],
   "source": [
    "my_iterator = iter(my_list)\n",
    "for _ in range(5):\n",
    "    element = next(my_iterator)\n",
    "    print(element)"
   ]
  },
  {
   "cell_type": "markdown",
   "id": "6e53e030-07d3-4fdb-9374-a1156aa522a4",
   "metadata": {},
   "source": [
    "Q4.  What is a generator function in python? Why yield keyword is used? Give an example of a generator \n",
    "function."
   ]
  },
  {
   "cell_type": "markdown",
   "id": "fa0d4f18-7fcf-4567-baa8-00f7bf7b7047",
   "metadata": {},
   "source": [
    "A generator function can produce a sequence of values on-the-fly, without needing to store them all in memory at once, making it memory-efficient for handling large or infinite sequences.\n",
    "\n",
    "The yield keyword allows a generator function to temporarily pause execution and return a value to the caller. When the generator function is called again, it resumes execution from where it left off, remembering its internal state. This enables the generator function to generate values dynamically, without needing to recompute everything from the beginning."
   ]
  },
  {
   "cell_type": "code",
   "execution_count": 21,
   "id": "8136a407-d2ad-4df6-b47c-566584e743fa",
   "metadata": {},
   "outputs": [],
   "source": [
    "def fibonacci_generator():\n",
    "    a, b = 0, 1\n",
    "    while True:\n",
    "        yield a\n",
    "        a, b = b, a + b\n"
   ]
  },
  {
   "cell_type": "code",
   "execution_count": 23,
   "id": "55332c1e-79c7-4403-8f7e-3b969a1e572a",
   "metadata": {},
   "outputs": [
    {
     "name": "stdout",
     "output_type": "stream",
     "text": [
      "0\n",
      "1\n",
      "1\n",
      "2\n",
      "3\n",
      "5\n",
      "8\n",
      "13\n",
      "21\n",
      "34\n"
     ]
    }
   ],
   "source": [
    "fib = fibonacci_generator()\n",
    "for i in range(10):\n",
    "    print(next(fib))\n"
   ]
  },
  {
   "cell_type": "markdown",
   "id": "6983a99f-0808-4824-849d-87806b9e3292",
   "metadata": {},
   "source": [
    "Q5. Create a generator function for prime numbers less than 1000. Use the next() method to print the \n",
    "first 20 prime numbers."
   ]
  },
  {
   "cell_type": "code",
   "execution_count": 24,
   "id": "40022044-3cd2-4982-8a53-9b988600004f",
   "metadata": {},
   "outputs": [],
   "source": [
    "def prime_generator():\n",
    "    yield 2\n",
    "    primes = [2]\n",
    "    num = 3\n",
    "\n",
    "    while num < 1000:\n",
    "        is_prime = True\n",
    "        for prime in primes:\n",
    "            if num % prime == 0:\n",
    "                is_prime = False\n",
    "                break\n",
    "\n",
    "        if is_prime:\n",
    "            yield num\n",
    "            primes.append(num)\n",
    "\n",
    "        num += 2\n"
   ]
  },
  {
   "cell_type": "code",
   "execution_count": 25,
   "id": "3458372d-a3eb-4673-b259-e71f6d34eecf",
   "metadata": {},
   "outputs": [
    {
     "name": "stdout",
     "output_type": "stream",
     "text": [
      "2\n",
      "3\n",
      "5\n",
      "7\n",
      "11\n",
      "13\n",
      "17\n",
      "19\n",
      "23\n",
      "29\n",
      "31\n",
      "37\n",
      "41\n",
      "43\n",
      "47\n",
      "53\n",
      "59\n",
      "61\n",
      "67\n",
      "71\n"
     ]
    }
   ],
   "source": [
    "prime_gen = prime_generator()\n",
    "\n",
    "for _ in range(20):\n",
    "    print(next(prime_gen))\n"
   ]
  },
  {
   "cell_type": "markdown",
   "id": "81d9f5b2-c309-4a39-9274-dea7ad9c0fda",
   "metadata": {},
   "source": [
    "Q6. Write a python program to print the first 10 Fibonacci numbers using a while loop."
   ]
  },
  {
   "cell_type": "code",
   "execution_count": 26,
   "id": "f8643268-0e3c-4518-8cc7-d49b3c80ab08",
   "metadata": {},
   "outputs": [
    {
     "name": "stdout",
     "output_type": "stream",
     "text": [
      "0\n",
      "1\n",
      "1\n",
      "2\n",
      "3\n",
      "5\n",
      "8\n",
      "13\n",
      "21\n",
      "34\n"
     ]
    }
   ],
   "source": [
    "a, b = 0, 1\n",
    "count = 0\n",
    "\n",
    "while count < 10:\n",
    "    print(a)\n",
    "    a, b = b, a + b\n",
    "    count += 1\n"
   ]
  },
  {
   "cell_type": "markdown",
   "id": "fbd826fe-1b80-458d-968d-07476b2baf69",
   "metadata": {},
   "source": [
    "Q7. Write a List Comprehension to iterate through the given string: ‘pwskills’.\n",
    "\n",
    "Expected output: ['p', 'w', 's', 'k', 'i', 'l', 'l', 's']"
   ]
  },
  {
   "cell_type": "code",
   "execution_count": 27,
   "id": "662974ad-d7ab-43fd-a2ed-a5ac400746ca",
   "metadata": {},
   "outputs": [
    {
     "name": "stdout",
     "output_type": "stream",
     "text": [
      "['p', 'w', 's', 'k', 'i', 'l', 'l', 's']\n"
     ]
    }
   ],
   "source": [
    "string = 'pwskills'\n",
    "output = [char for char in string]\n",
    "\n",
    "print(output)\n"
   ]
  },
  {
   "cell_type": "markdown",
   "id": "e9f40206-1917-4665-b967-ce8c342a5c27",
   "metadata": {},
   "source": [
    "Q8. Write a python program to check whether a given number is Palindrome or not using a while loop."
   ]
  },
  {
   "cell_type": "code",
   "execution_count": 28,
   "id": "c438edbc-1c41-4a8d-9c41-afafcb61a1bc",
   "metadata": {},
   "outputs": [
    {
     "name": "stdin",
     "output_type": "stream",
     "text": [
      "Enter a number:  2434534\n"
     ]
    },
    {
     "name": "stdout",
     "output_type": "stream",
     "text": [
      "2434534 is not a palindrome\n"
     ]
    }
   ],
   "source": [
    "num = int(input(\"Enter a number: \"))\n",
    "temp = num\n",
    "reverse = 0\n",
    "\n",
    "while temp > 0:\n",
    "    digit = temp % 10\n",
    "    reverse = reverse * 10 + digit\n",
    "    temp //= 10\n",
    "\n",
    "if num == reverse:\n",
    "    print(num, \"is a palindrome\")\n",
    "else:\n",
    "    print(num, \"is not a palindrome\")\n"
   ]
  },
  {
   "cell_type": "markdown",
   "id": "5e324eb2-4440-423b-802e-aa57f6f6469a",
   "metadata": {},
   "source": [
    "Q9. Write a code to print odd numbers from 1 to 100 using list comprehension.\n",
    "\n",
    "Note: Use a list comprehension to create a list from 1 to 100 and use another List comprehension to filter \n",
    "out odd numbers"
   ]
  },
  {
   "cell_type": "code",
   "execution_count": 29,
   "id": "b849ec8b-ce14-4e7b-9ee9-94ff2cd2baae",
   "metadata": {},
   "outputs": [
    {
     "name": "stdout",
     "output_type": "stream",
     "text": [
      "[1, 3, 5, 7, 9, 11, 13, 15, 17, 19, 21, 23, 25, 27, 29, 31, 33, 35, 37, 39, 41, 43, 45, 47, 49, 51, 53, 55, 57, 59, 61, 63, 65, 67, 69, 71, 73, 75, 77, 79, 81, 83, 85, 87, 89, 91, 93, 95, 97, 99]\n"
     ]
    }
   ],
   "source": [
    "odd_numbers = [num for num in range(1, 101) if num % 2 != 0]\n",
    "\n",
    "print(odd_numbers)\n"
   ]
  },
  {
   "cell_type": "code",
   "execution_count": null,
   "id": "64543c26-5d3e-4a2e-b5de-3ae2f6f6fa7d",
   "metadata": {},
   "outputs": [],
   "source": []
  }
 ],
 "metadata": {
  "kernelspec": {
   "display_name": "Python 3 (ipykernel)",
   "language": "python",
   "name": "python3"
  },
  "language_info": {
   "codemirror_mode": {
    "name": "ipython",
    "version": 3
   },
   "file_extension": ".py",
   "mimetype": "text/x-python",
   "name": "python",
   "nbconvert_exporter": "python",
   "pygments_lexer": "ipython3",
   "version": "3.10.8"
  }
 },
 "nbformat": 4,
 "nbformat_minor": 5
}
