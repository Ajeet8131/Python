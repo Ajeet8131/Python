{
 "cells": [
  {
   "cell_type": "markdown",
   "id": "d43cfe70-d525-428b-b115-833185e1311f",
   "metadata": {},
   "source": [
    "Q1. How do you comment code in Python? What are the different types of comments?"
   ]
  },
  {
   "cell_type": "markdown",
   "id": "92a23603-5736-47a0-b086-83ce9c32d442",
   "metadata": {},
   "source": [
    "Multiline Comment"
   ]
  },
  {
   "cell_type": "code",
   "execution_count": 7,
   "id": "b35933b6-381a-487c-9c06-e23656da9205",
   "metadata": {},
   "outputs": [],
   "source": [
    "'''\n",
    "a=20\n",
    "b=30\n",
    "d=a+b\n",
    "'''\n",
    "c=20"
   ]
  },
  {
   "cell_type": "code",
   "execution_count": 8,
   "id": "deea4719-3234-4d95-93ba-535590fb5260",
   "metadata": {},
   "outputs": [
    {
     "ename": "NameError",
     "evalue": "name 'd' is not defined",
     "output_type": "error",
     "traceback": [
      "\u001b[0;31m---------------------------------------------------------------------------\u001b[0m",
      "\u001b[0;31mNameError\u001b[0m                                 Traceback (most recent call last)",
      "Cell \u001b[0;32mIn[8], line 1\u001b[0m\n\u001b[0;32m----> 1\u001b[0m \u001b[43md\u001b[49m\n",
      "\u001b[0;31mNameError\u001b[0m: name 'd' is not defined"
     ]
    }
   ],
   "source": [
    "d"
   ]
  },
  {
   "cell_type": "code",
   "execution_count": 9,
   "id": "fb8f78da-9f07-4873-9172-5249eaca2ae1",
   "metadata": {},
   "outputs": [],
   "source": [
    "# Single line comment\n",
    "a=20\n",
    "b=30\n",
    "d=a+b"
   ]
  },
  {
   "cell_type": "code",
   "execution_count": 10,
   "id": "2d20b494-bd82-4fc8-82b0-03354afc3ad5",
   "metadata": {},
   "outputs": [
    {
     "data": {
      "text/plain": [
       "50"
      ]
     },
     "execution_count": 10,
     "metadata": {},
     "output_type": "execute_result"
    }
   ],
   "source": [
    "d"
   ]
  },
  {
   "cell_type": "markdown",
   "id": "b4d71e0f-abc7-414d-a075-d4dbb3065660",
   "metadata": {},
   "source": [
    "Q2. What are variables in Python? How do you declare and assign values to variables?"
   ]
  },
  {
   "cell_type": "markdown",
   "id": "c1ee4086-8bff-465d-93d1-400016928c61",
   "metadata": {},
   "source": [
    "Variables are used to store and manipulate data. They act as placeholders that can hold different types of values, such as numbers, strings, or objects. Variables allow you to assign names to values, making it easier to reference and work with data in your code."
   ]
  },
  {
   "cell_type": "code",
   "execution_count": 11,
   "id": "9e0ac615-8704-49cd-ae8d-9a965d073362",
   "metadata": {},
   "outputs": [],
   "source": [
    "x=25 # This is integer\n",
    "y=\"Hellow\" #This is string"
   ]
  },
  {
   "cell_type": "markdown",
   "id": "cc97cfe3-15c2-40a5-8162-fdae99f1194a",
   "metadata": {},
   "source": [
    "Q3. How do you convert one data type to another in Python?"
   ]
  },
  {
   "cell_type": "code",
   "execution_count": 12,
   "id": "bbd9c471-ca9e-470b-9cce-0cd28cbff448",
   "metadata": {},
   "outputs": [],
   "source": [
    "x = 10"
   ]
  },
  {
   "cell_type": "code",
   "execution_count": 13,
   "id": "4439ee77-a271-4c67-8c64-a8adae20eac4",
   "metadata": {},
   "outputs": [
    {
     "data": {
      "text/plain": [
       "int"
      ]
     },
     "execution_count": 13,
     "metadata": {},
     "output_type": "execute_result"
    }
   ],
   "source": [
    "type(x)"
   ]
  },
  {
   "cell_type": "code",
   "execution_count": 14,
   "id": "807cd505-4406-4428-965e-22b80e56c9ec",
   "metadata": {},
   "outputs": [],
   "source": [
    "y = str(x)"
   ]
  },
  {
   "cell_type": "code",
   "execution_count": 16,
   "id": "7e24f7b2-97c0-4d95-a8f9-843eb58ca9ac",
   "metadata": {},
   "outputs": [
    {
     "data": {
      "text/plain": [
       "str"
      ]
     },
     "execution_count": 16,
     "metadata": {},
     "output_type": "execute_result"
    }
   ],
   "source": [
    "type(y)"
   ]
  },
  {
   "cell_type": "markdown",
   "id": "6efc5b93-ee35-4622-ac44-2f1efa56c37d",
   "metadata": {},
   "source": [
    "Q4. How do you write and execute a Python script from the command line?"
   ]
  },
  {
   "cell_type": "markdown",
   "id": "a4d33c8c-7dba-48e3-bd33-6be8af8e2cd8",
   "metadata": {},
   "source": [
    "1.Open a text editor and create a new file. \n",
    "2.Write your Python code in the text file.\n",
    "3.Save the file with a .py extension.\n",
    "4.Open the command line or terminal on your operating system.\n",
    "4.Navigate to the directory where you saved your Python script using the cd command.\n",
    "5.Once you are in the correct directory, you can execute the Python script by typing=> pyhton filename"
   ]
  },
  {
   "cell_type": "markdown",
   "id": "34ba0a7f-82d7-476b-8466-b66685db542c",
   "metadata": {},
   "source": [
    "Q5. Given a list my_list = [1, 2, 3, 4, 5], write the code to slice the list and obtain the sub-list [2, 3]."
   ]
  },
  {
   "cell_type": "code",
   "execution_count": 17,
   "id": "d4163742-8b77-4a8f-878d-d85479a0296e",
   "metadata": {},
   "outputs": [
    {
     "name": "stdout",
     "output_type": "stream",
     "text": [
      "[2, 3]\n"
     ]
    }
   ],
   "source": [
    "my_list = [1, 2, 3, 4, 5]\n",
    "sub_list = my_list[1:3]\n",
    "print(sub_list)"
   ]
  },
  {
   "cell_type": "markdown",
   "id": "0813af84-bd93-4882-ad43-56de224cb6ac",
   "metadata": {},
   "source": [
    "Q6. What is a complex number in mathematics, and how is it represented in Python?"
   ]
  },
  {
   "cell_type": "markdown",
   "id": "baf140bf-f277-40bf-a550-c9cc3240759c",
   "metadata": {},
   "source": [
    "In mathematics, a complex number is a number of the form a + bi, where a and b are real numbers, and i is the imaginary unit"
   ]
  },
  {
   "cell_type": "code",
   "execution_count": null,
   "id": "935f5c0b-d6b3-4db7-a3c9-fac17c68a030",
   "metadata": {},
   "outputs": [],
   "source": [
    "#Represented as\n",
    "x = a+bj"
   ]
  },
  {
   "cell_type": "markdown",
   "id": "4061bbb8-6475-42d0-89e0-4b7833f9601a",
   "metadata": {},
   "source": [
    "Q7. What is the correct way to declare a variable named age and assign the value 25 to it?"
   ]
  },
  {
   "cell_type": "code",
   "execution_count": 19,
   "id": "456dd523-4da0-48bb-bd0c-8c98d2cd742e",
   "metadata": {},
   "outputs": [],
   "source": [
    "age = 25"
   ]
  },
  {
   "cell_type": "code",
   "execution_count": 20,
   "id": "897b77a9-edea-4f52-9ca3-c93df577c729",
   "metadata": {},
   "outputs": [
    {
     "data": {
      "text/plain": [
       "int"
      ]
     },
     "execution_count": 20,
     "metadata": {},
     "output_type": "execute_result"
    }
   ],
   "source": [
    "type(age)"
   ]
  },
  {
   "cell_type": "markdown",
   "id": "064f9ece-3416-45c0-a60b-802f4288a450",
   "metadata": {},
   "source": [
    "Q8. Declare a variable named price and assign the value 9.99 to it. What data type does this variable \n",
    "belong to?"
   ]
  },
  {
   "cell_type": "code",
   "execution_count": 21,
   "id": "34a5ab72-f3a0-42f7-a4fe-57b76272c727",
   "metadata": {},
   "outputs": [],
   "source": [
    "price = 9.99"
   ]
  },
  {
   "cell_type": "code",
   "execution_count": 22,
   "id": "bbc0dd34-5cc1-4623-93e4-20c287f93b7a",
   "metadata": {},
   "outputs": [
    {
     "data": {
      "text/plain": [
       "float"
      ]
     },
     "execution_count": 22,
     "metadata": {},
     "output_type": "execute_result"
    }
   ],
   "source": [
    "type(price)"
   ]
  },
  {
   "cell_type": "markdown",
   "id": "a8b5ed28-0b7d-4247-ba36-90ab2fb2e23d",
   "metadata": {},
   "source": [
    "Q9. Create a variable named name and assign your full name to it as a string. How would you print the \n",
    "value of this variable?"
   ]
  },
  {
   "cell_type": "code",
   "execution_count": 23,
   "id": "d8907a4e-e679-4249-90b0-be5fcfae3809",
   "metadata": {},
   "outputs": [],
   "source": [
    "name = \"Ajeet Kumar\""
   ]
  },
  {
   "cell_type": "code",
   "execution_count": 24,
   "id": "965b5020-9389-4e7d-a065-3b273de17187",
   "metadata": {},
   "outputs": [
    {
     "name": "stdout",
     "output_type": "stream",
     "text": [
      "Ajeet Kumar\n"
     ]
    }
   ],
   "source": [
    "print(name)"
   ]
  },
  {
   "cell_type": "markdown",
   "id": "6b5deeab-1fc1-4a19-bba2-013f3c031b2b",
   "metadata": {},
   "source": [
    "Q10. Given the string \"Hello, World!\", extract the substring \"World\"."
   ]
  },
  {
   "cell_type": "code",
   "execution_count": 25,
   "id": "d8912034-8569-4b6d-a39b-2f7e44d64520",
   "metadata": {},
   "outputs": [],
   "source": [
    "x = \"Hello, World!\""
   ]
  },
  {
   "cell_type": "code",
   "execution_count": 28,
   "id": "9a307d62-6246-4bf8-93a9-875bf0348377",
   "metadata": {},
   "outputs": [],
   "source": [
    "y = x[7:12]"
   ]
  },
  {
   "cell_type": "code",
   "execution_count": 29,
   "id": "3d7771c8-d271-43fc-ad77-154676298425",
   "metadata": {},
   "outputs": [
    {
     "data": {
      "text/plain": [
       "'World'"
      ]
     },
     "execution_count": 29,
     "metadata": {},
     "output_type": "execute_result"
    }
   ],
   "source": [
    "y"
   ]
  },
  {
   "cell_type": "markdown",
   "id": "1a6a7b48-0e31-49fc-a3f2-b8d615395b9d",
   "metadata": {},
   "source": [
    "Q11. Create a variable named \"is_student\" and assign it a boolean value indicating whether you are \n",
    "currently a student or not."
   ]
  },
  {
   "cell_type": "code",
   "execution_count": 30,
   "id": "9498dab0-6008-4daf-8e9f-3de85b56dc06",
   "metadata": {},
   "outputs": [],
   "source": [
    "is_student = True"
   ]
  },
  {
   "cell_type": "code",
   "execution_count": null,
   "id": "822f2631-7fde-40dd-9aed-b93b5913ccf7",
   "metadata": {},
   "outputs": [],
   "source": []
  }
 ],
 "metadata": {
  "kernelspec": {
   "display_name": "Python 3 (ipykernel)",
   "language": "python",
   "name": "python3"
  },
  "language_info": {
   "codemirror_mode": {
    "name": "ipython",
    "version": 3
   },
   "file_extension": ".py",
   "mimetype": "text/x-python",
   "name": "python",
   "nbconvert_exporter": "python",
   "pygments_lexer": "ipython3",
   "version": "3.10.8"
  }
 },
 "nbformat": 4,
 "nbformat_minor": 5
}
