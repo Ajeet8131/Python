{
 "cells": [
  {
   "cell_type": "markdown",
   "id": "0a8a31eb-1781-46c3-af08-f90fa3c6a258",
   "metadata": {},
   "source": [
    "Q1. Create one variable containing following type of data:\n",
    "(i)\tstring\n",
    "(ii)\tlist\n",
    "(iii)\tfloat\n",
    "(iv)\ttuple"
   ]
  },
  {
   "cell_type": "code",
   "execution_count": 16,
   "id": "ad01c0ce-6dd2-4194-8092-4d126821cebe",
   "metadata": {},
   "outputs": [
    {
     "data": {
      "text/plain": [
       "str"
      ]
     },
     "execution_count": 16,
     "metadata": {},
     "output_type": "execute_result"
    }
   ],
   "source": [
    "a = 'Ajeet'\n",
    "type(a)"
   ]
  },
  {
   "cell_type": "code",
   "execution_count": 18,
   "id": "7b193ccd-766b-46a8-8ed9-6c5e0b13d140",
   "metadata": {},
   "outputs": [
    {
     "data": {
      "text/plain": [
       "list"
      ]
     },
     "execution_count": 18,
     "metadata": {},
     "output_type": "execute_result"
    }
   ],
   "source": [
    "a = [1,22.3, 'a']\n",
    "type(a)"
   ]
  },
  {
   "cell_type": "code",
   "execution_count": 19,
   "id": "5d85676c-f1bc-44e2-a003-1ade561af22b",
   "metadata": {},
   "outputs": [
    {
     "data": {
      "text/plain": [
       "float"
      ]
     },
     "execution_count": 19,
     "metadata": {},
     "output_type": "execute_result"
    }
   ],
   "source": [
    "a = 22.4\n",
    "type(a)"
   ]
  },
  {
   "cell_type": "code",
   "execution_count": 20,
   "id": "441ab878-9469-492e-8f4a-c42d664b553f",
   "metadata": {},
   "outputs": [
    {
     "data": {
      "text/plain": [
       "tuple"
      ]
     },
     "execution_count": 20,
     "metadata": {},
     "output_type": "execute_result"
    }
   ],
   "source": [
    "a = (1,2,22.5,'ajeet')\n",
    "type(a)"
   ]
  },
  {
   "cell_type": "markdown",
   "id": "ec8a8ca4-d99e-41ef-9fab-aef39a226cdf",
   "metadata": {},
   "source": [
    "Q2. Given are some following variables containing data:\n",
    "(i)\tvar1 = ‘ ‘\n",
    "(ii)\tvar2 = ‘[ DS , ML , Python]’\n",
    "(iii)\tvar3 = [ ‘DS’ , ’ML’ , ‘Python’ ]\n",
    "(iv)\tvar4 = 1.\n",
    "\n",
    "What will be the data type of the above given variable"
   ]
  },
  {
   "cell_type": "code",
   "execution_count": 21,
   "id": "01e52ea3-b66f-4e74-a388-7c6845d6f087",
   "metadata": {},
   "outputs": [
    {
     "data": {
      "text/plain": [
       "str"
      ]
     },
     "execution_count": 21,
     "metadata": {},
     "output_type": "execute_result"
    }
   ],
   "source": [
    "var1 = ''\n",
    "type(var1)"
   ]
  },
  {
   "cell_type": "code",
   "execution_count": 23,
   "id": "fe8679e7-d95c-4353-9189-62ff80ae4698",
   "metadata": {},
   "outputs": [
    {
     "data": {
      "text/plain": [
       "str"
      ]
     },
     "execution_count": 23,
     "metadata": {},
     "output_type": "execute_result"
    }
   ],
   "source": [
    "var2 = '[DS , ML , Python]'\n",
    "type(var2)"
   ]
  },
  {
   "cell_type": "code",
   "execution_count": 25,
   "id": "4269287d-2143-4eb7-9700-81d728f40019",
   "metadata": {},
   "outputs": [
    {
     "data": {
      "text/plain": [
       "list"
      ]
     },
     "execution_count": 25,
     "metadata": {},
     "output_type": "execute_result"
    }
   ],
   "source": [
    "var3 = [ 'DS' , 'ML' , 'Python' ]\n",
    "type(var3)"
   ]
  },
  {
   "cell_type": "code",
   "execution_count": 26,
   "id": "2c684054-c83a-41e8-aa79-0ebcedaf4683",
   "metadata": {},
   "outputs": [
    {
     "data": {
      "text/plain": [
       "int"
      ]
     },
     "execution_count": 26,
     "metadata": {},
     "output_type": "execute_result"
    }
   ],
   "source": [
    "var4 = 1\n",
    "type(var4)"
   ]
  },
  {
   "cell_type": "markdown",
   "id": "5d223ce3-1682-4243-86e6-9e07d081cc32",
   "metadata": {},
   "source": [
    "Q3. Explain the use of the following operators using an example:\n",
    "(i)\t/\n",
    "(ii)\t% \n",
    "(iii)\t//\n",
    "(iv)\t**"
   ]
  },
  {
   "cell_type": "code",
   "execution_count": 32,
   "id": "677daedb-0f53-416b-9744-59cb20e5c663",
   "metadata": {},
   "outputs": [],
   "source": [
    "a = 16\n",
    "b = 8\n"
   ]
  },
  {
   "cell_type": "code",
   "execution_count": 33,
   "id": "f53225a6-0e88-4b8b-bc2e-3eb739394f30",
   "metadata": {},
   "outputs": [
    {
     "data": {
      "text/plain": [
       "2.0"
      ]
     },
     "execution_count": 33,
     "metadata": {},
     "output_type": "execute_result"
    }
   ],
   "source": [
    "a/b"
   ]
  },
  {
   "cell_type": "code",
   "execution_count": 34,
   "id": "90cf453e-34bd-4c4f-8bd3-4a0bc580758c",
   "metadata": {},
   "outputs": [
    {
     "data": {
      "text/plain": [
       "0"
      ]
     },
     "execution_count": 34,
     "metadata": {},
     "output_type": "execute_result"
    }
   ],
   "source": [
    "a%b"
   ]
  },
  {
   "cell_type": "code",
   "execution_count": 35,
   "id": "bf1fbdaf-eb60-4588-873e-124b87e8f1cf",
   "metadata": {},
   "outputs": [
    {
     "data": {
      "text/plain": [
       "2"
      ]
     },
     "execution_count": 35,
     "metadata": {},
     "output_type": "execute_result"
    }
   ],
   "source": [
    "a//b"
   ]
  },
  {
   "cell_type": "code",
   "execution_count": 36,
   "id": "5fc34730-6fbe-4055-85d0-4acd875b2960",
   "metadata": {},
   "outputs": [
    {
     "data": {
      "text/plain": [
       "4294967296"
      ]
     },
     "execution_count": 36,
     "metadata": {},
     "output_type": "execute_result"
    }
   ],
   "source": [
    "a**b"
   ]
  },
  {
   "cell_type": "markdown",
   "id": "31dbc55b-5ddd-4fc4-9a4a-8c1287876ff9",
   "metadata": {},
   "source": [
    "Q4. Create a list of length 10 of your choice containing multiple types of data. Using for loop print the \n",
    "element and its data type"
   ]
  },
  {
   "cell_type": "code",
   "execution_count": 38,
   "id": "9790bd64-a864-4633-bd46-05a77559bff4",
   "metadata": {},
   "outputs": [
    {
     "name": "stdout",
     "output_type": "stream",
     "text": [
      "1 <class 'int'>\n",
      "88 <class 'int'>\n",
      "55 <class 'int'>\n",
      "ajeet <class 'str'>\n",
      "22.5 <class 'float'>\n",
      "True <class 'bool'>\n",
      "False <class 'bool'>\n",
      "0.0 <class 'float'>\n",
      "22 <class 'int'>\n",
      "aj <class 'str'>\n"
     ]
    }
   ],
   "source": [
    "a = [1,88,55,'ajeet',22.5,True,False,0.0,22,'aj']\n",
    "for i in a:\n",
    "    print(i, type(i))"
   ]
  },
  {
   "cell_type": "markdown",
   "id": "3ac83ea5-aae5-4430-a432-a13dc34e213a",
   "metadata": {},
   "source": [
    "Q5. Using a while loop, verify if the number A is purely divisible by number B and if so then how many \n",
    "times it can be divisible."
   ]
  },
  {
   "cell_type": "code",
   "execution_count": 34,
   "id": "cf726199-df45-49e0-a69a-d5c23a47f92c",
   "metadata": {},
   "outputs": [
    {
     "name": "stdout",
     "output_type": "stream",
     "text": [
      "total how many times 1028 divisible by 2: 2\n"
     ]
    }
   ],
   "source": [
    "A=1028\n",
    "B=2\n",
    "count=0\n",
    "while A%B==0:\n",
    "    A=A/B\n",
    "    count+=1\n",
    "    \n",
    "print('total how many times 1028 divisible by 2:', count)"
   ]
  },
  {
   "cell_type": "markdown",
   "id": "d4421a3c-8c9b-4c61-92bc-5c680cd256be",
   "metadata": {},
   "source": [
    "Q6. Create a list containing 25 int type data. Using for loop and if-else condition print if the element is \n",
    "divisible by 3 or not"
   ]
  },
  {
   "cell_type": "code",
   "execution_count": 1,
   "id": "ad3fca95-2d71-461d-ad8d-d969f9ea8265",
   "metadata": {},
   "outputs": [
    {
     "data": {
      "text/plain": [
       "range(0, 25)"
      ]
     },
     "execution_count": 1,
     "metadata": {},
     "output_type": "execute_result"
    }
   ],
   "source": [
    "range(25)"
   ]
  },
  {
   "cell_type": "code",
   "execution_count": 28,
   "id": "b38f9373-6e42-4f5d-a8f9-e0bbb6825bcf",
   "metadata": {},
   "outputs": [
    {
     "name": "stdout",
     "output_type": "stream",
     "text": [
      "0 number is divisible\n",
      "1 number is not divisible\n",
      "2 number is not divisible\n",
      "3 number is divisible\n",
      "4 number is not divisible\n",
      "5 number is not divisible\n",
      "6 number is divisible\n",
      "7 number is not divisible\n",
      "8 number is not divisible\n",
      "9 number is divisible\n",
      "10 number is not divisible\n",
      "11 number is not divisible\n",
      "12 number is divisible\n",
      "13 number is not divisible\n",
      "14 number is not divisible\n",
      "15 number is divisible\n",
      "16 number is not divisible\n",
      "17 number is not divisible\n",
      "18 number is divisible\n",
      "19 number is not divisible\n",
      "20 number is not divisible\n",
      "21 number is divisible\n",
      "22 number is not divisible\n",
      "23 number is not divisible\n",
      "24 number is divisible\n"
     ]
    }
   ],
   "source": [
    "for i in range(25):\n",
    "    if i%3==0:\n",
    "        print(i, 'number is divisible')\n",
    "    else:\n",
    "        print(i, 'number is not divisible')\n"
   ]
  },
  {
   "cell_type": "markdown",
   "id": "8278e7b1-51e2-490c-bea7-4abd22f9867d",
   "metadata": {},
   "source": [
    "Q7. What do you understand about mutable and immutable data types? Give examples for both showing \n",
    "this property"
   ]
  },
  {
   "cell_type": "markdown",
   "id": "20a71072-d6fd-4591-a546-0ea7f7f0c1ef",
   "metadata": {},
   "source": [
    "Strings are immutable and list are mutable that means we can replace the variale from list but we can not replace the string.\n",
    "\n",
    "example: first example is list and the second is st"
   ]
  },
  {
   "cell_type": "code",
   "execution_count": 35,
   "id": "bf281144-63fd-40a5-aa84-27dec1f39694",
   "metadata": {},
   "outputs": [],
   "source": [
    "a=[1,2,3,4,'v','abc','z']"
   ]
  },
  {
   "cell_type": "code",
   "execution_count": 36,
   "id": "9231b278-cbe8-43df-a010-dae48dd2804f",
   "metadata": {},
   "outputs": [
    {
     "data": {
      "text/plain": [
       "'abc'"
      ]
     },
     "execution_count": 36,
     "metadata": {},
     "output_type": "execute_result"
    }
   ],
   "source": [
    "a[5]"
   ]
  },
  {
   "cell_type": "code",
   "execution_count": 37,
   "id": "6e773594-3875-4f20-bfb0-fcaf473d4d7f",
   "metadata": {},
   "outputs": [],
   "source": [
    "a[5]=9"
   ]
  },
  {
   "cell_type": "code",
   "execution_count": 38,
   "id": "8a80fc66-1b6b-4247-8d79-827a7c0cd2b9",
   "metadata": {},
   "outputs": [
    {
     "data": {
      "text/plain": [
       "[1, 2, 3, 4, 'v', 9, 'z']"
      ]
     },
     "execution_count": 38,
     "metadata": {},
     "output_type": "execute_result"
    }
   ],
   "source": [
    "a"
   ]
  },
  {
   "cell_type": "code",
   "execution_count": 39,
   "id": "25e97896-ace0-4d8e-840d-7de66d0fd397",
   "metadata": {},
   "outputs": [],
   "source": [
    "b='Ajeet'"
   ]
  },
  {
   "cell_type": "code",
   "execution_count": 40,
   "id": "e8018f6f-aad8-4568-9bf5-45aa8436f0f3",
   "metadata": {},
   "outputs": [
    {
     "data": {
      "text/plain": [
       "'e'"
      ]
     },
     "execution_count": 40,
     "metadata": {},
     "output_type": "execute_result"
    }
   ],
   "source": [
    "b[3]"
   ]
  },
  {
   "cell_type": "code",
   "execution_count": 41,
   "id": "a9458415-87b0-4cbc-81d5-102b2f121c5a",
   "metadata": {},
   "outputs": [
    {
     "ename": "TypeError",
     "evalue": "'str' object does not support item assignment",
     "output_type": "error",
     "traceback": [
      "\u001b[0;31m---------------------------------------------------------------------------\u001b[0m",
      "\u001b[0;31mTypeError\u001b[0m                                 Traceback (most recent call last)",
      "Cell \u001b[0;32mIn[41], line 1\u001b[0m\n\u001b[0;32m----> 1\u001b[0m \u001b[43mb\u001b[49m\u001b[43m[\u001b[49m\u001b[38;5;241;43m3\u001b[39;49m\u001b[43m]\u001b[49m\u001b[38;5;241m=\u001b[39m\u001b[38;5;124m'\u001b[39m\u001b[38;5;124mi\u001b[39m\u001b[38;5;124m'\u001b[39m\n",
      "\u001b[0;31mTypeError\u001b[0m: 'str' object does not support item assignment"
     ]
    }
   ],
   "source": [
    "b[3]='i'"
   ]
  },
  {
   "cell_type": "code",
   "execution_count": null,
   "id": "571bc7c6-8d84-4a26-b0d2-4c9e250425b7",
   "metadata": {},
   "outputs": [],
   "source": []
  }
 ],
 "metadata": {
  "kernelspec": {
   "display_name": "Python 3 (ipykernel)",
   "language": "python",
   "name": "python3"
  },
  "language_info": {
   "codemirror_mode": {
    "name": "ipython",
    "version": 3
   },
   "file_extension": ".py",
   "mimetype": "text/x-python",
   "name": "python",
   "nbconvert_exporter": "python",
   "pygments_lexer": "ipython3",
   "version": "3.10.8"
  }
 },
 "nbformat": 4,
 "nbformat_minor": 5
}
